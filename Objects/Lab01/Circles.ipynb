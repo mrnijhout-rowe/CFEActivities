{
  "cells": [
    {
      "cell_type": "markdown",
      "id": "1af74b0d-f211-4879-b2a0-afe0699f5365",
      "metadata": {
        "id": "1af74b0d-f211-4879-b2a0-afe0699f5365"
      },
      "source": [
        "#Circle Objects\n",
        "I've started creating this circle class. I would like you to create the constructor that includes the x and y location of the center of the circle and its radius. So when you construct a new circle located at (0, 0) with a radius of 2 you would do this:\n",
        "```\n",
        "my_circle = Circle(0, 0, 2)\n",
        "```\n",
        "You will construct a __str__ method that will return a string with the location of the center of the circle and its radius.\n",
        "\n",
        "You will contstruct a circumference method that will return the circle's circumference and an area method that will return the circle's area. You can use 3.14 as an approximation of pi for each of these methods.\n",
        "\n",
        "Lastly you constuct a method called overlap that you will call with two circles for example:\n",
        "```\n",
        "my_circle.overlap(your_circle)\n",
        "```\n",
        "This will test if the two circles overlap at any point.\n",
        "\n",
        "\n"
      ]
    },
    {
      "cell_type": "code",
      "execution_count": null,
      "id": "0613307f-c1b5-4ee5-b9a0-f5c5f9f630ea",
      "metadata": {
        "id": "0613307f-c1b5-4ee5-b9a0-f5c5f9f630ea"
      },
      "outputs": [],
      "source": [
        "class Circle:\n",
        "  #Enter your own code below each comment\n",
        "  #Constructor\n",
        "\n",
        "  #String representation when using print()\n",
        "\n",
        "  #circumference method\n",
        "\n",
        "  #area method\n",
        "\n",
        "  #overlap method\n",
        "\n",
        ""
      ]
    },
    {
      "cell_type": "code",
      "execution_count": null,
      "id": "18e717c0-5c7d-4eba-8896-ea85406a8947",
      "metadata": {
        "id": "18e717c0-5c7d-4eba-8896-ea85406a8947"
      },
      "outputs": [],
      "source": [
        "#test your code\n",
        "my_circle = Circle(0, 0, 2)\n",
        "your_circle = Circle(3, 0, 2)\n",
        "print(my_circle)\n",
        "print(my_circle.circumference())\n",
        "print(my_circle.area())\n",
        "print(my_circle.overlap(your_circle))"
      ]
    },
    {
      "cell_type": "code",
      "execution_count": null,
      "id": "b891de9b-2666-4323-902f-ee313bb3f4d8",
      "metadata": {
        "id": "b891de9b-2666-4323-902f-ee313bb3f4d8"
      },
      "outputs": [],
      "source": []
    }
  ],
  "metadata": {
    "kernelspec": {
      "display_name": "Python 3 (ipykernel)",
      "language": "python",
      "name": "python3"
    },
    "language_info": {
      "codemirror_mode": {
        "name": "ipython",
        "version": 3
      },
      "file_extension": ".py",
      "mimetype": "text/x-python",
      "name": "python",
      "nbconvert_exporter": "python",
      "pygments_lexer": "ipython3",
      "version": "3.12.9"
    },
    "colab": {
      "provenance": []
    }
  },
  "nbformat": 4,
  "nbformat_minor": 5
}