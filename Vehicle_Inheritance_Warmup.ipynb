{
  "cells": [
    {
      "cell_type": "markdown",
      "metadata": {
        "id": "view-in-github",
        "colab_type": "text"
      },
      "source": [
        "<a href=\"https://colab.research.google.com/github/mrnijhout-rowe/CFEActivities/blob/main/Vehicle_Inheritance_Warmup.ipynb\" target=\"_parent\"><img src=\"https://colab.research.google.com/assets/colab-badge.svg\" alt=\"Open In Colab\"/></a>"
      ]
    },
    {
      "cell_type": "markdown",
      "id": "f03d58eb",
      "metadata": {
        "id": "f03d58eb"
      },
      "source": [
        "# 🚗 Vehicle Inheritance Warm-Up\n",
        "\n",
        "## Objective\n",
        "Practice creating a superclass and subclasses using inheritance in Python. Today you'll build a set of classes that model different types of vehicles."
      ]
    },
    {
      "cell_type": "markdown",
      "id": "b12f56a3",
      "metadata": {
        "id": "b12f56a3"
      },
      "source": [
        "## Step 1: Create the Superclass `Vehicle`\n",
        "\n",
        "The `Vehicle` class should have the following attributes:\n",
        "- `make` (string)\n",
        "- `model` (string)\n",
        "- `year` (integer)\n",
        "- `is_electric` (boolean)\n",
        "\n",
        "Add these methods:\n",
        "- `start()` – returns `'The vehicle starts with a roar!'` if not electric, or `'The vehicle starts silently.'` if it is\n",
        "- `__str__()` – returns something like:\n",
        "  `'2021 Tesla Model 3 (Electric)'` or `'2010 Toyota Corolla (Gas)'`"
      ]
    },
    {
      "cell_type": "code",
      "execution_count": null,
      "id": "746dd355",
      "metadata": {
        "id": "746dd355"
      },
      "outputs": [],
      "source": [
        "# TODO: Define the Vehicle class here\n",
        "\n"
      ]
    },
    {
      "cell_type": "markdown",
      "id": "3f663e3d",
      "metadata": {
        "id": "3f663e3d"
      },
      "source": [
        "## Step 2: Create These Subclasses\n",
        "\n",
        "Each subclass should inherit from `Vehicle` and override or add at least one method.\n",
        "\n",
        "### Car\n",
        "- Add a method `open_trunk()` that returns `'You pop open the trunk.'`\n",
        "\n",
        "### Motorcycle\n",
        "- Add a method `pop_wheelie()` that returns `'You pop a sick wheelie!'`\n",
        "\n",
        "### Truck\n",
        "- Add a method `load_cargo()` that returns `'You load 500 pounds of cargo into the truck bed.'`"
      ]
    },
    {
      "cell_type": "code",
      "execution_count": null,
      "id": "f395badf",
      "metadata": {
        "id": "f395badf"
      },
      "outputs": [],
      "source": [
        "# TODO: Define Car, Motorcycle, and Truck subclasses here\n",
        "\n",
        "\n"
      ]
    },
    {
      "cell_type": "markdown",
      "id": "a3e7fab8",
      "metadata": {
        "id": "a3e7fab8"
      },
      "source": [
        "## Step 3: Create One More Subclass of Your Own Design\n",
        "\n",
        "Create another type of vehicle – for example, `Scooter`, `Helicopter`, or `GoKart`.\n",
        "\n",
        "- It must inherit from `Vehicle`\n",
        "- It must override or add at least one method"
      ]
    },
    {
      "cell_type": "code",
      "execution_count": null,
      "id": "e47a7a7e",
      "metadata": {
        "id": "e47a7a7e"
      },
      "outputs": [],
      "source": [
        "# TODO: Create your own vehicle subclass here\n",
        "\n"
      ]
    },
    {
      "cell_type": "markdown",
      "id": "89fd5dca",
      "metadata": {
        "id": "89fd5dca"
      },
      "source": [
        "## Step 4: Test Your Classes\n",
        "\n",
        "Create at least one object from each class and call their methods."
      ]
    },
    {
      "cell_type": "code",
      "execution_count": null,
      "id": "58173f2e",
      "metadata": {
        "id": "58173f2e"
      },
      "outputs": [],
      "source": [
        "# TODO: Create objects and test their methods here\n",
        "\n",
        "my_car = Car(\"Toyota\", \"Corolla\", 2020, False)\n",
        "print(my_car)\n",
        "print(my_car.start())\n",
        "print(my_car.open_trunk())\n",
        "\n",
        "my_bike = Motorcycle(\"Harley-Davidson\", \"Iron 883\", 2022, False)\n",
        "print(my_bike)\n",
        "print(my_bike.start())\n",
        "print(my_bike.pop_wheelie())\n",
        "\n",
        "my_truck = Truck(\"Ford\", \"F-150\", 2018, False)\n",
        "print(my_truck)\n",
        "print(my_truck.start())\n",
        "print(my_truck.load_cargo())\n",
        "\n",
        "my_scooter = Scooter(\"Segway\", \"Ninebot\", 2023, True)\n",
        "print(my_scooter)\n",
        "print(my_scooter.start())\n",
        "print(my_scooter.ring_bell())\n"
      ]
    },
    {
      "cell_type": "markdown",
      "id": "a3f00ecf",
      "metadata": {
        "id": "a3f00ecf"
      },
      "source": [
        "## ✅ Stretch Ideas (Optional)\n",
        "\n",
        "- Add a `drive()` method to the superclass and override it in each subclass\n",
        "- Add a class variable to count how many total vehicles have been created\n",
        "- Add a method that returns the vehicle's age based on the current year"
      ]
    }
  ],
  "metadata": {
    "colab": {
      "provenance": [],
      "include_colab_link": true
    }
  },
  "nbformat": 4,
  "nbformat_minor": 5
}