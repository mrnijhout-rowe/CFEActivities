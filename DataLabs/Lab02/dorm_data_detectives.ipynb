{
 "cells": [
  {
   "cell_type": "markdown",
   "id": "ce20d178",
   "metadata": {},
   "source": [
    "# Dorm Data Detectives 🕵️‍♀️\n",
    "\n",
    "In this notebook, you'll work through a four-part activity to load, clean, analyze, and visualize real-world dorm energy usage data."
   ]
  },
  {
   "cell_type": "markdown",
   "id": "1f67a798",
   "metadata": {},
   "source": [
    "## Part 1: Load and Peek 👀\n",
    "We'll start by loading the dataset and taking a look at the raw data."
   ]
  },
  {
   "cell_type": "code",
   "execution_count": null,
   "id": "d2ca59ac",
   "metadata": {},
   "outputs": [],
   "source": [
    "#code will go here\n",
    "\n",
    "\n"
   ]
  },
  {
   "cell_type": "markdown",
   "id": "e87d38a6",
   "metadata": {},
   "source": [
    "## Part 2: Clean and Visualize 🧹📊\n",
    "Now we’ll clean the data and create our first bar chart."
   ]
  },
  {
   "cell_type": "code",
   "execution_count": null,
   "id": "07e2b129",
   "metadata": {},
   "outputs": [],
   "source": [
    "# Normalize and clean\n"
   ]
  },
  {
   "cell_type": "code",
   "execution_count": null,
   "id": "df77b2da",
   "metadata": {},
   "outputs": [],
   "source": [
    "# Plot total usage by floor\n"
   ]
  },
  {
   "cell_type": "markdown",
   "id": "2e07be3e",
   "metadata": {},
   "source": [
    "## Part 3: Analysis Challenge 🤓\n",
    "Work in pairs or groups to answer the questions below."
   ]
  },
  {
   "cell_type": "code",
   "execution_count": null,
   "id": "f02def2b",
   "metadata": {},
   "outputs": [],
   "source": [
    "# TODO:\n",
    "# 1. Find the room with the highest total_kwh\n",
    "# 2. Compute the average usage per room\n",
    "# 3. Find which floor has the highest average usage\n",
    "# 4. Create a leaderboard of top 5 rooms by total_kwh"
   ]
  },
  {
   "cell_type": "markdown",
   "id": "36e8a08d",
   "metadata": {},
   "source": [
    "## Part 4: Homework - Visualize & Reflect 📈📝\n",
    "Choose one of the two options below and create a chart. Then write your insights."
   ]
  },
  {
   "cell_type": "code",
   "execution_count": null,
   "id": "99dd8a04",
   "metadata": {},
   "outputs": [],
   "source": [
    "# TODO:\n",
    "# Create a bar chart showing either:\n",
    "#   a) Top 5 rooms by total usage, OR\n",
    "#   b) Average daily usage across all rooms"
   ]
  },
  {
   "cell_type": "markdown",
   "id": "0c22eb6a",
   "metadata": {},
   "source": [
    "### Reflection\n",
    "Write a short paragraph describing your insights:\n",
    "- What did the chart show you?\n",
    "- Any interesting patterns?\n",
    "- Any surprises or possible issues in the data?"
   ]
  },
  {
   "cell_type": "code",
   "execution_count": null,
   "id": "e3a828e3-c7b7-4bdb-b404-54908548a212",
   "metadata": {},
   "outputs": [],
   "source": []
  }
 ],
 "metadata": {
  "kernelspec": {
   "display_name": "Python 3 (ipykernel)",
   "language": "python",
   "name": "python3"
  },
  "language_info": {
   "codemirror_mode": {
    "name": "ipython",
    "version": 3
   },
   "file_extension": ".py",
   "mimetype": "text/x-python",
   "name": "python",
   "nbconvert_exporter": "python",
   "pygments_lexer": "ipython3",
   "version": "3.12.9"
  }
 },
 "nbformat": 4,
 "nbformat_minor": 5
}
